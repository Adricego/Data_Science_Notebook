{
 "cells": [
  {
   "cell_type": "markdown",
   "id": "c9267e08-f10b-4075-bb48-6c8bf477e6ca",
   "metadata": {},
   "source": [
    "# Data Science Notebook"
   ]
  },
  {
   "cell_type": "markdown",
   "id": "79d5b194-365c-42dd-8948-e9ced49c6530",
   "metadata": {},
   "source": [
    "## Introduction\n",
    "This notebook contains various exercises related to Data Science concepts, including programming languages, libraries, tools, and arithmetic operations."
   ]
  },
  {
   "cell_type": "markdown",
   "id": "b78b5e0f-c35d-4a17-9459-a06bc4081458",
   "metadata": {},
   "source": [
    "## Data Science Languages\n",
    "- Python\n",
    "- R\n",
    "- SQL\n",
    "- Julia\n",
    "- Java\n",
    "- Scala"
   ]
  },
  {
   "cell_type": "markdown",
   "id": "6259314d-dd81-405c-a757-a75e34575e31",
   "metadata": {},
   "source": [
    "## Data Science Libraries\n",
    "- Pandas\n",
    "- NumPy\n",
    "- Matplotlib\n",
    "- Seaborn\n",
    "- Scikit-learn\n",
    "- TensorFlow\n",
    "- PyTorch"
   ]
  },
  {
   "cell_type": "markdown",
   "id": "b422de6d-0323-4c36-87cd-5735b985cf23",
   "metadata": {},
   "source": [
    "## Data Science Tools\n",
    "\n",
    "| Tool            | Description                |\n",
    "|-----------------|----------------------------|\n",
    "| Jupyter Notebook | Interactive computing tool |\n",
    "| RStudio          | IDE for R programming      |\n",
    "| Apache Spark     | Big Data processing         |\n",
    "| TensorFlow       | Machine learning library    |\n",
    "| Tableau          | Data visualization tool     |"
   ]
  },
  {
   "cell_type": "markdown",
   "id": "cd4b9121-d737-4f96-bed2-3417dd216f8e",
   "metadata": {},
   "source": [
    "## Arithmetic Expressions Examples\n",
    "Here are some examples of arithmetic expressions:\n",
    "\n",
    "- **Addition:** 3 + 5 = 8  \n",
    "- **Subtraction:** 10 - 4 = 6  \n",
    "- **Multiplication:** 2 * 3 = 6  \n",
    "- **Division:** 15 / 3 = 5  "
   ]
  },
  {
   "cell_type": "code",
   "execution_count": null,
   "id": "06cee3e7-3481-4745-834a-5f5e6cb0a2b2",
   "metadata": {},
   "outputs": [],
   "source": [
    "# Multiply and add numbers\n",
    "a = 5\n",
    "b = 3\n",
    "\n",
    "# Multiplication\n",
    "multiplication_result = a * b\n",
    "\n",
    "# Addition\n",
    "addition_result = a + b\n",
    "\n",
    "print(\"Multiplication result:\", multiplication_result)\n",
    "print(\"Addition result:\", addition_result)\n"
   ]
  },
  {
   "cell_type": "code",
   "execution_count": null,
   "id": "677ac4fb-3de4-4cc8-84ab-4566bef3aebb",
   "metadata": {},
   "outputs": [],
   "source": [
    "# Convert minutes to hours\n",
    "minutes = 120\n",
    "hours = minutes / 60\n",
    "print(f\"{minutes} minutes is equal to {hours} hours.\")\n"
   ]
  },
  {
   "cell_type": "code",
   "execution_count": null,
   "id": "5a5c03b1-1037-4475-be8f-2ff4cf293488",
   "metadata": {},
   "outputs": [],
   "source": [
    "# List of Objectives\n",
    "objectives = [\n",
    "    \"Learn Python basics\",\n",
    "    \"Understand Data Science concepts\",\n",
    "    \"Practice with Jupyter Notebook\",\n",
    "    \"Master data visualization techniques\",\n",
    "    \"Implement machine learning models\"\n",
    "]\n",
    "\n",
    "print(\"Data Science Objectives:\")\n",
    "for objective in objectives:\n",
    "    print(\"-\", objective)\n"
   ]
  },
  {
   "cell_type": "markdown",
   "id": "bf1e7a10-5a14-4e90-b1e1-f370744af6ea",
   "metadata": {},
   "source": [
    "## Author\n",
    "**Diego Cortés Hurtado**"
   ]
  }
 ],
 "metadata": {
  "kernelspec": {
   "display_name": "Python 3 (ipykernel)",
   "language": "python",
   "name": "python3"
  },
  "language_info": {
   "codemirror_mode": {
    "name": "ipython",
    "version": 3
   },
   "file_extension": ".py",
   "mimetype": "text/x-python",
   "name": "python",
   "nbconvert_exporter": "python",
   "pygments_lexer": "ipython3",
   "version": "3.12.8"
  }
 },
 "nbformat": 4,
 "nbformat_minor": 5
}
